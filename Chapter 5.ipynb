{
 "cells": [
  {
   "cell_type": "code",
   "execution_count": 1,
   "metadata": {
    "collapsed": false
   },
   "outputs": [
    {
     "name": "stdout",
     "output_type": "stream",
     "text": [
      "3\n",
      "7\n"
     ]
    }
   ],
   "source": [
    "result = 0\n",
    "def adder(num):\n",
    "    global result\n",
    "    result += num\n",
    "    return result\n",
    "\n",
    "print(adder(3))\n",
    "print(adder(4))"
   ]
  },
  {
   "cell_type": "code",
   "execution_count": 9,
   "metadata": {
    "collapsed": false
   },
   "outputs": [
    {
     "name": "stdout",
     "output_type": "stream",
     "text": [
      "3\n",
      "7\n",
      "3\n",
      "10\n"
     ]
    }
   ],
   "source": [
    "class Calculator : \n",
    "    def __init__(self):\n",
    "        self.result=0\n",
    "    def adder(self, num):\n",
    "        self.result += num\n",
    "        return self.result\n",
    "cal1 = Calculator()\n",
    "cal2 = Calculator()\n",
    "\n",
    "print(cal1.adder(3))\n",
    "print(cal1.adder(4))\n",
    "print(cal2.adder(3))\n",
    "print(cal2.adder(7))"
   ]
  },
  {
   "cell_type": "code",
   "execution_count": 11,
   "metadata": {
    "collapsed": false
   },
   "outputs": [
    {
     "data": {
      "text/plain": [
       "'영구는 배꼽이 두 개다.'"
      ]
     },
     "execution_count": 11,
     "metadata": {},
     "output_type": "execute_result"
    }
   ],
   "source": [
    "class Service : \n",
    "    secret = \"영구는 배꼽이 두 개다.\"\n",
    "pey = Service()\n",
    "pey.secret"
   ]
  },
  {
   "cell_type": "code",
   "execution_count": 14,
   "metadata": {
    "collapsed": false
   },
   "outputs": [
    {
     "name": "stdout",
     "output_type": "stream",
     "text": [
      "1+2 =3입니다\n"
     ]
    }
   ],
   "source": [
    "class Service : \n",
    "    secret=\"영구는 배꼽이 두 개다\"\n",
    "    def sum(self, a, b):\n",
    "        result=a+b\n",
    "        print(\"%s+%s =%s입니다\" %(a, b, result))\n",
    "pey=Service()\n",
    "pey.sum(1,2)"
   ]
  },
  {
   "cell_type": "code",
   "execution_count": 15,
   "metadata": {
    "collapsed": false
   },
   "outputs": [
    {
     "ename": "TypeError",
     "evalue": "sum() takes 3 positional arguments but 4 were given",
     "output_type": "error",
     "traceback": [
      "\u001b[0;31m---------------------------------------------------------------------------\u001b[0m",
      "\u001b[0;31mTypeError\u001b[0m                                 Traceback (most recent call last)",
      "\u001b[0;32m<ipython-input-15-ed164eed21fa>\u001b[0m in \u001b[0;36m<module>\u001b[0;34m()\u001b[0m\n\u001b[1;32m      5\u001b[0m         \u001b[0mprint\u001b[0m\u001b[1;33m(\u001b[0m\u001b[1;34m\"%s+%s =%s입니다\"\u001b[0m \u001b[1;33m%\u001b[0m\u001b[1;33m(\u001b[0m\u001b[0ma\u001b[0m\u001b[1;33m,\u001b[0m \u001b[0mb\u001b[0m\u001b[1;33m,\u001b[0m \u001b[0mresult\u001b[0m\u001b[1;33m)\u001b[0m\u001b[1;33m)\u001b[0m\u001b[1;33m\u001b[0m\u001b[0m\n\u001b[1;32m      6\u001b[0m \u001b[0mpey\u001b[0m\u001b[1;33m=\u001b[0m\u001b[0mService\u001b[0m\u001b[1;33m(\u001b[0m\u001b[1;33m)\u001b[0m\u001b[1;33m\u001b[0m\u001b[0m\n\u001b[0;32m----> 7\u001b[0;31m \u001b[0mpey\u001b[0m\u001b[1;33m.\u001b[0m\u001b[0msum\u001b[0m\u001b[1;33m(\u001b[0m\u001b[0mpey\u001b[0m\u001b[1;33m,\u001b[0m\u001b[1;36m1\u001b[0m\u001b[1;33m,\u001b[0m\u001b[1;36m2\u001b[0m\u001b[1;33m)\u001b[0m\u001b[1;33m\u001b[0m\u001b[0m\n\u001b[0m",
      "\u001b[0;31mTypeError\u001b[0m: sum() takes 3 positional arguments but 4 were given"
     ]
    }
   ],
   "source": [
    "# 에러 : sum() takes 3 positional arguments but 4 were given\n",
    "class Service : \n",
    "    secret=\"영구는 배꼽이 두 개다\"\n",
    "    def sum(self, a, b):\n",
    "        result=a+b\n",
    "        print(\"%s+%s =%s입니다\" %(a, b, result))\n",
    "pey=Service()\n",
    "pey.sum(pey,1,2)"
   ]
  },
  {
   "cell_type": "code",
   "execution_count": 24,
   "metadata": {
    "collapsed": false
   },
   "outputs": [
    {
     "name": "stdout",
     "output_type": "stream",
     "text": [
      "홍길동님 1 + 2 = 3입니다\n"
     ]
    }
   ],
   "source": [
    "class Service : \n",
    "    secret =\"영구는 배꼽이 두 개다\"\n",
    "    def __init__(self, name):\n",
    "        self.name= name\n",
    "    def sum(self, a, b):\n",
    "        result=a+b\n",
    "        print(\"%s님 %s + %s = %s입니다\" %(self.name, a, b, result))\n",
    "pey=Service(\"홍길동\")\n",
    "pey.sum(1,2)"
   ]
  },
  {
   "cell_type": "code",
   "execution_count": 8,
   "metadata": {
    "collapsed": false
   },
   "outputs": [
    {
     "name": "stdout",
     "output_type": "stream",
     "text": [
      "6\n",
      "21\n"
     ]
    }
   ],
   "source": [
    "class FourCal:\n",
    "    def __init__(self, first, second):\n",
    "        self.first =first\n",
    "        self.second = second\n",
    "    def sum(self):\n",
    "        result = self.first + self.second\n",
    "        return result\n",
    "    def mul(self) : \n",
    "        result = self.first * self.second\n",
    "        return result\n",
    "    def sub(self) : \n",
    "        result = self.first - self.second\n",
    "        return result\n",
    "    def div(self) : \n",
    "        result = self.first / self.second\n",
    "        return result\n",
    "    \n",
    "a=FourCal(4,2)\n",
    "b=FourCal(3,7)\n",
    "print(a.sum())\n",
    "print(b.mul())"
   ]
  },
  {
   "cell_type": "code",
   "execution_count": 9,
   "metadata": {
    "collapsed": false
   },
   "outputs": [
    {
     "name": "stdout",
     "output_type": "stream",
     "text": [
      "박보영, 전주 여행을 가다\n"
     ]
    }
   ],
   "source": [
    "class HousePark : \n",
    "    lastname = \"박\"\n",
    "    def __init__(self, name):\n",
    "        self.fullname = self.lastname + name\n",
    "    def travel(self, where):\n",
    "        print(\"%s, %s 여행을 가다\" %(self.fullname, where))\n",
    "    def love(self, other):\n",
    "        print(\"%s, %s 사랑에 빠졌네\" %(self.fullname, other.fullname))\n",
    "    def __add__(self, other):\n",
    "        print(\"%s, %s 결혼했네\" %(self.fullname, other.fullname))\n",
    "pey=HousePark(\"보영\")\n",
    "pey.travel(\"전주\")"
   ]
  },
  {
   "cell_type": "code",
   "execution_count": 7,
   "metadata": {
    "collapsed": false
   },
   "outputs": [
    {
     "name": "stdout",
     "output_type": "stream",
     "text": [
      "김줄리엣, 독도여행 3일 가네\n"
     ]
    }
   ],
   "source": [
    "class HouseKim(HousePark):\n",
    "    lastname = \"김\"\n",
    "    def travel(self, where, day) :\n",
    "        print(\"%s, %s여행 %d일 가네\" %(self.fullname, where, day))\n",
    "juliet = HouseKim(\"줄리엣\")\n",
    "juliet.travel(\"독도\",3)"
   ]
  },
  {
   "cell_type": "code",
   "execution_count": 11,
   "metadata": {
    "collapsed": false
   },
   "outputs": [
    {
     "name": "stdout",
     "output_type": "stream",
     "text": [
      "박응용, 김줄리엣 결혼했네\n",
      "박응용, 김줄리엣 사랑에 빠졌네\n"
     ]
    }
   ],
   "source": [
    "pey = HousePark(\"응용\")\n",
    "juliet = HouseKim(\"줄리엣\")\n",
    "pey+juliet\n",
    "pey.love(juliet)"
   ]
  }
 ],
 "metadata": {
  "kernelspec": {
   "display_name": "Python 3",
   "language": "python",
   "name": "python3"
  },
  "language_info": {
   "codemirror_mode": {
    "name": "ipython",
    "version": 3
   },
   "file_extension": ".py",
   "mimetype": "text/x-python",
   "name": "python",
   "nbconvert_exporter": "python",
   "pygments_lexer": "ipython3",
   "version": "3.6.0"
  }
 },
 "nbformat": 4,
 "nbformat_minor": 2
}
